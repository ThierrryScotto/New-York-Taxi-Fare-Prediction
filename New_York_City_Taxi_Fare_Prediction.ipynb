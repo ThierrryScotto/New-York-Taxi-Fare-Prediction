{
 "cells": [
  {
   "cell_type": "code",
   "execution_count": 1,
   "outputs": [],
   "source": [
    "import numpy as np\n",
    "import pandas as pd"
   ],
   "metadata": {
    "collapsed": false,
    "pycharm": {
     "name": "#%%\n"
    }
   }
  },
  {
   "cell_type": "code",
   "execution_count": 2,
   "outputs": [],
   "source": [
    "import matplotlib.pyplot as plt\n",
    "import seaborn as sns\n",
    "%matplotlib inline"
   ],
   "metadata": {
    "collapsed": false,
    "pycharm": {
     "name": "#%%\n"
    }
   }
  },
  {
   "cell_type": "code",
   "execution_count": 3,
   "outputs": [],
   "source": [
    "# O que este comando faz?\n",
    "\n",
    "sns.set_style('whitegrid')"
   ],
   "metadata": {
    "collapsed": false,
    "pycharm": {
     "name": "#%%\n"
    }
   }
  },
  {
   "cell_type": "code",
   "execution_count": 4,
   "outputs": [],
   "source": [
    "# o que o parse faz?\n",
    "\n",
    "df_train = pd.read_csv('train.csv', nrows=100000, parse_dates=['pickup_datetime'])\n",
    "# df_train = pd.read_csv('train.csv', nrows=200000, parse_dates=['pickup_datetime'])"
   ],
   "metadata": {
    "collapsed": false,
    "pycharm": {
     "name": "#%%\n"
    }
   }
  },
  {
   "cell_type": "code",
   "execution_count": 5,
   "outputs": [
    {
     "name": "stdout",
     "output_type": "stream",
     "text": [
      "<class 'pandas.core.frame.DataFrame'>\n",
      "RangeIndex: 200000 entries, 0 to 199999\n",
      "Data columns (total 8 columns):\n",
      " #   Column             Non-Null Count   Dtype              \n",
      "---  ------             --------------   -----              \n",
      " 0   key                200000 non-null  object             \n",
      " 1   fare_amount        200000 non-null  float64            \n",
      " 2   pickup_datetime    200000 non-null  datetime64[ns, UTC]\n",
      " 3   pickup_longitude   200000 non-null  float64            \n",
      " 4   pickup_latitude    200000 non-null  float64            \n",
      " 5   dropoff_longitude  199999 non-null  float64            \n",
      " 6   dropoff_latitude   199999 non-null  float64            \n",
      " 7   passenger_count    200000 non-null  int64              \n",
      "dtypes: datetime64[ns, UTC](1), float64(5), int64(1), object(1)\n",
      "memory usage: 12.2+ MB\n"
     ]
    }
   ],
   "source": [
    "df_train.info()"
   ],
   "metadata": {
    "collapsed": false,
    "pycharm": {
     "name": "#%%\n"
    }
   }
  },
  {
   "cell_type": "code",
   "execution_count": 6,
   "outputs": [
    {
     "data": {
      "text/plain": "         fare_amount  pickup_longitude  pickup_latitude  dropoff_longitude  \\\ncount  200000.000000     200000.000000    200000.000000      199999.000000   \nmean       11.342877        -72.506121        39.922326         -72.518673   \nstd         9.837855         11.608097        10.048947          10.724226   \nmin       -44.900000       -736.550000     -3116.285383       -1251.195890   \n25%         6.000000        -73.992050        40.735007         -73.991295   \n50%         8.500000        -73.981743        40.752761         -73.980072   \n75%        12.500000        -73.967068        40.767127         -73.963508   \nmax       500.000000       2140.601160      1703.092772          40.851027   \n\n       dropoff_latitude  passenger_count  \ncount     199999.000000    200000.000000  \nmean          39.925579         1.682445  \nstd            6.751120         1.306730  \nmin        -1189.615440         0.000000  \n25%           40.734092         1.000000  \n50%           40.753225         1.000000  \n75%           40.768070         2.000000  \nmax          404.616667         6.000000  ",
      "text/html": "<div>\n<style scoped>\n    .dataframe tbody tr th:only-of-type {\n        vertical-align: middle;\n    }\n\n    .dataframe tbody tr th {\n        vertical-align: top;\n    }\n\n    .dataframe thead th {\n        text-align: right;\n    }\n</style>\n<table border=\"1\" class=\"dataframe\">\n  <thead>\n    <tr style=\"text-align: right;\">\n      <th></th>\n      <th>fare_amount</th>\n      <th>pickup_longitude</th>\n      <th>pickup_latitude</th>\n      <th>dropoff_longitude</th>\n      <th>dropoff_latitude</th>\n      <th>passenger_count</th>\n    </tr>\n  </thead>\n  <tbody>\n    <tr>\n      <th>count</th>\n      <td>200000.000000</td>\n      <td>200000.000000</td>\n      <td>200000.000000</td>\n      <td>199999.000000</td>\n      <td>199999.000000</td>\n      <td>200000.000000</td>\n    </tr>\n    <tr>\n      <th>mean</th>\n      <td>11.342877</td>\n      <td>-72.506121</td>\n      <td>39.922326</td>\n      <td>-72.518673</td>\n      <td>39.925579</td>\n      <td>1.682445</td>\n    </tr>\n    <tr>\n      <th>std</th>\n      <td>9.837855</td>\n      <td>11.608097</td>\n      <td>10.048947</td>\n      <td>10.724226</td>\n      <td>6.751120</td>\n      <td>1.306730</td>\n    </tr>\n    <tr>\n      <th>min</th>\n      <td>-44.900000</td>\n      <td>-736.550000</td>\n      <td>-3116.285383</td>\n      <td>-1251.195890</td>\n      <td>-1189.615440</td>\n      <td>0.000000</td>\n    </tr>\n    <tr>\n      <th>25%</th>\n      <td>6.000000</td>\n      <td>-73.992050</td>\n      <td>40.735007</td>\n      <td>-73.991295</td>\n      <td>40.734092</td>\n      <td>1.000000</td>\n    </tr>\n    <tr>\n      <th>50%</th>\n      <td>8.500000</td>\n      <td>-73.981743</td>\n      <td>40.752761</td>\n      <td>-73.980072</td>\n      <td>40.753225</td>\n      <td>1.000000</td>\n    </tr>\n    <tr>\n      <th>75%</th>\n      <td>12.500000</td>\n      <td>-73.967068</td>\n      <td>40.767127</td>\n      <td>-73.963508</td>\n      <td>40.768070</td>\n      <td>2.000000</td>\n    </tr>\n    <tr>\n      <th>max</th>\n      <td>500.000000</td>\n      <td>2140.601160</td>\n      <td>1703.092772</td>\n      <td>40.851027</td>\n      <td>404.616667</td>\n      <td>6.000000</td>\n    </tr>\n  </tbody>\n</table>\n</div>"
     },
     "execution_count": 6,
     "metadata": {},
     "output_type": "execute_result"
    }
   ],
   "source": [
    "# O que o comando describe faz?\n",
    "\n",
    "df_train.describe()"
   ],
   "metadata": {
    "collapsed": false,
    "pycharm": {
     "name": "#%%\n"
    }
   }
  },
  {
   "cell_type": "code",
   "execution_count": 7,
   "outputs": [
    {
     "data": {
      "text/plain": "key                               object\nfare_amount                      float64\npickup_datetime      datetime64[ns, UTC]\npickup_longitude                 float64\npickup_latitude                  float64\ndropoff_longitude                float64\ndropoff_latitude                 float64\npassenger_count                    int64\ndtype: object"
     },
     "execution_count": 7,
     "metadata": {},
     "output_type": "execute_result"
    }
   ],
   "source": [
    "df_train.dtypes"
   ],
   "metadata": {
    "collapsed": false,
    "pycharm": {
     "name": "#%%\n"
    }
   }
  },
  {
   "cell_type": "markdown",
   "source": [
    "## Data Pre-processing\n",
    "\n",
    "### Minimum Fare-Amount is Negative, so we have to remove this observations"
   ],
   "metadata": {
    "collapsed": false,
    "pycharm": {
     "name": "#%% md\n"
    }
   }
  },
  {
   "cell_type": "code",
   "execution_count": 14,
   "outputs": [
    {
     "data": {
      "text/plain": "199999"
     },
     "execution_count": 14,
     "metadata": {},
     "output_type": "execute_result"
    }
   ],
   "source": [
    "len(df_train)"
   ],
   "metadata": {
    "collapsed": false,
    "pycharm": {
     "name": "#%%\n"
    }
   }
  },
  {
   "cell_type": "code",
   "execution_count": 15,
   "outputs": [],
   "source": [
    "df_train = df_train[df_train['fare_amount'] >= 0]"
   ],
   "metadata": {
    "collapsed": false,
    "pycharm": {
     "name": "#%%\n"
    }
   }
  },
  {
   "cell_type": "code",
   "execution_count": 16,
   "outputs": [
    {
     "data": {
      "text/plain": "199986"
     },
     "execution_count": 16,
     "metadata": {},
     "output_type": "execute_result"
    }
   ],
   "source": [
    "len(df_train)"
   ],
   "metadata": {
    "collapsed": false,
    "pycharm": {
     "name": "#%%\n"
    }
   }
  },
  {
   "cell_type": "code",
   "execution_count": 17,
   "outputs": [
    {
     "data": {
      "text/plain": "0          4.50\n1         16.90\n2          5.70\n3          7.70\n4          5.30\n          ...  \n199995     8.90\n199996    14.10\n199997     6.90\n199998    18.00\n199999    42.83\nName: fare_amount, Length: 199981, dtype: float64"
     },
     "execution_count": 17,
     "metadata": {},
     "output_type": "execute_result"
    }
   ],
   "source": [
    "df_train[df_train['fare_amount'] > 0]['fare_amount']"
   ],
   "metadata": {
    "collapsed": false,
    "pycharm": {
     "name": "#%%\n"
    }
   }
  },
  {
   "cell_type": "markdown",
   "source": [
    "### Histogram of fare amount"
   ],
   "metadata": {
    "collapsed": false,
    "pycharm": {
     "name": "#%% md\n"
    }
   }
  },
  {
   "cell_type": "code",
   "execution_count": 18,
   "outputs": [
    {
     "data": {
      "text/plain": "<seaborn.axisgrid.FacetGrid at 0x2451636ed30>"
     },
     "execution_count": 18,
     "metadata": {},
     "output_type": "execute_result"
    },
    {
     "data": {
      "text/plain": "<Figure size 360x360 with 1 Axes>",
      "image/png": "[encoded data removed]"
     },
     "metadata": {},
     "output_type": "display_data"
    }
   ],
   "source": [
    "# para que usarmos um Histograma\n",
    "\n",
    "sns.displot(df_train[df_train['fare_amount'] < 100]['fare_amount'], kde=False)"
   ],
   "metadata": {
    "collapsed": false,
    "pycharm": {
     "name": "#%%\n"
    }
   }
  },
  {
   "cell_type": "markdown",
   "source": [
    "#### **Notice - small spikes between $40 and $60**"
   ],
   "metadata": {
    "collapsed": false,
    "pycharm": {
     "name": "#%% md\n"
    }
   }
  },
  {
   "cell_type": "markdown",
   "source": [
    "## Remove Missing Data"
   ],
   "metadata": {
    "collapsed": false,
    "pycharm": {
     "name": "#%% md\n"
    }
   }
  },
  {
   "cell_type": "code",
   "execution_count": 19,
   "outputs": [
    {
     "data": {
      "text/plain": "key                  0\nfare_amount          0\npickup_datetime      0\npickup_longitude     0\npickup_latitude      0\ndropoff_longitude    0\ndropoff_latitude     0\npassenger_count      0\ndtype: int64"
     },
     "execution_count": 19,
     "metadata": {},
     "output_type": "execute_result"
    }
   ],
   "source": [
    "df_train.isnull().sum()"
   ],
   "metadata": {
    "collapsed": false,
    "pycharm": {
     "name": "#%%\n"
    }
   }
  },
  {
   "cell_type": "code",
   "execution_count": 20,
   "outputs": [],
   "source": [
    "# o que faz o comando how?\n",
    "\n",
    "df_train = df_train.dropna(how='any', axis='rows')"
   ],
   "metadata": {
    "collapsed": false,
    "pycharm": {
     "name": "#%%\n"
    }
   }
  },
  {
   "cell_type": "code",
   "execution_count": 21,
   "outputs": [
    {
     "data": {
      "text/plain": "199986"
     },
     "execution_count": 21,
     "metadata": {},
     "output_type": "execute_result"
    }
   ],
   "source": [
    "len(df_train)"
   ],
   "metadata": {
    "collapsed": false,
    "pycharm": {
     "name": "#%%\n"
    }
   }
  },
  {
   "cell_type": "code",
   "execution_count": 22,
   "outputs": [],
   "source": [
    "df_test = pd.read_csv('test.csv')"
   ],
   "metadata": {
    "collapsed": false,
    "pycharm": {
     "name": "#%%\n"
    }
   }
  },
  {
   "cell_type": "code",
   "execution_count": 23,
   "outputs": [
    {
     "data": {
      "text/plain": "                           key          pickup_datetime  pickup_longitude  \\\n0  2015-01-27 13:08:24.0000002  2015-01-27 13:08:24 UTC        -73.973320   \n1  2015-01-27 13:08:24.0000003  2015-01-27 13:08:24 UTC        -73.986862   \n2  2011-10-08 11:53:44.0000002  2011-10-08 11:53:44 UTC        -73.982524   \n3  2012-12-01 21:12:12.0000002  2012-12-01 21:12:12 UTC        -73.981160   \n4  2012-12-01 21:12:12.0000003  2012-12-01 21:12:12 UTC        -73.966046   \n\n   pickup_latitude  dropoff_longitude  dropoff_latitude  passenger_count  \n0        40.763805         -73.981430         40.743835                1  \n1        40.719383         -73.998886         40.739201                1  \n2        40.751260         -73.979654         40.746139                1  \n3        40.767807         -73.990448         40.751635                1  \n4        40.789775         -73.988565         40.744427                1  ",
      "text/html": "<div>\n<style scoped>\n    .dataframe tbody tr th:only-of-type {\n        vertical-align: middle;\n    }\n\n    .dataframe tbody tr th {\n        vertical-align: top;\n    }\n\n    .dataframe thead th {\n        text-align: right;\n    }\n</style>\n<table border=\"1\" class=\"dataframe\">\n  <thead>\n    <tr style=\"text-align: right;\">\n      <th></th>\n      <th>key</th>\n      <th>pickup_datetime</th>\n      <th>pickup_longitude</th>\n      <th>pickup_latitude</th>\n      <th>dropoff_longitude</th>\n      <th>dropoff_latitude</th>\n      <th>passenger_count</th>\n    </tr>\n  </thead>\n  <tbody>\n    <tr>\n      <th>0</th>\n      <td>2015-01-27 13:08:24.0000002</td>\n      <td>2015-01-27 13:08:24 UTC</td>\n      <td>-73.973320</td>\n      <td>40.763805</td>\n      <td>-73.981430</td>\n      <td>40.743835</td>\n      <td>1</td>\n    </tr>\n    <tr>\n      <th>1</th>\n      <td>2015-01-27 13:08:24.0000003</td>\n      <td>2015-01-27 13:08:24 UTC</td>\n      <td>-73.986862</td>\n      <td>40.719383</td>\n      <td>-73.998886</td>\n      <td>40.739201</td>\n      <td>1</td>\n    </tr>\n    <tr>\n      <th>2</th>\n      <td>2011-10-08 11:53:44.0000002</td>\n      <td>2011-10-08 11:53:44 UTC</td>\n      <td>-73.982524</td>\n      <td>40.751260</td>\n      <td>-73.979654</td>\n      <td>40.746139</td>\n      <td>1</td>\n    </tr>\n    <tr>\n      <th>3</th>\n      <td>2012-12-01 21:12:12.0000002</td>\n      <td>2012-12-01 21:12:12 UTC</td>\n      <td>-73.981160</td>\n      <td>40.767807</td>\n      <td>-73.990448</td>\n      <td>40.751635</td>\n      <td>1</td>\n    </tr>\n    <tr>\n      <th>4</th>\n      <td>2012-12-01 21:12:12.0000003</td>\n      <td>2012-12-01 21:12:12 UTC</td>\n      <td>-73.966046</td>\n      <td>40.789775</td>\n      <td>-73.988565</td>\n      <td>40.744427</td>\n      <td>1</td>\n    </tr>\n  </tbody>\n</table>\n</div>"
     },
     "execution_count": 23,
     "metadata": {},
     "output_type": "execute_result"
    }
   ],
   "source": [
    "df_test.head()"
   ],
   "metadata": {
    "collapsed": false,
    "pycharm": {
     "name": "#%%\n"
    }
   }
  },
  {
   "cell_type": "code",
   "execution_count": 24,
   "outputs": [
    {
     "data": {
      "text/plain": "       pickup_longitude  pickup_latitude  dropoff_longitude  dropoff_latitude  \\\ncount       9914.000000      9914.000000        9914.000000       9914.000000   \nmean         -73.974722        40.751041         -73.973657         40.751743   \nstd            0.042774         0.033541           0.039072          0.035435   \nmin          -74.252193        40.573143         -74.263242         40.568973   \n25%          -73.992501        40.736125         -73.991247         40.735254   \n50%          -73.982326        40.753051         -73.980015         40.754065   \n75%          -73.968013        40.767113         -73.964059         40.768757   \nmax          -72.986532        41.709555         -72.990963         41.696683   \n\n       passenger_count  \ncount      9914.000000  \nmean          1.671273  \nstd           1.278747  \nmin           1.000000  \n25%           1.000000  \n50%           1.000000  \n75%           2.000000  \nmax           6.000000  ",
      "text/html": "<div>\n<style scoped>\n    .dataframe tbody tr th:only-of-type {\n        vertical-align: middle;\n    }\n\n    .dataframe tbody tr th {\n        vertical-align: top;\n    }\n\n    .dataframe thead th {\n        text-align: right;\n    }\n</style>\n<table border=\"1\" class=\"dataframe\">\n  <thead>\n    <tr style=\"text-align: right;\">\n      <th></th>\n      <th>pickup_longitude</th>\n      <th>pickup_latitude</th>\n      <th>dropoff_longitude</th>\n      <th>dropoff_latitude</th>\n      <th>passenger_count</th>\n    </tr>\n  </thead>\n  <tbody>\n    <tr>\n      <th>count</th>\n      <td>9914.000000</td>\n      <td>9914.000000</td>\n      <td>9914.000000</td>\n      <td>9914.000000</td>\n      <td>9914.000000</td>\n    </tr>\n    <tr>\n      <th>mean</th>\n      <td>-73.974722</td>\n      <td>40.751041</td>\n      <td>-73.973657</td>\n      <td>40.751743</td>\n      <td>1.671273</td>\n    </tr>\n    <tr>\n      <th>std</th>\n      <td>0.042774</td>\n      <td>0.033541</td>\n      <td>0.039072</td>\n      <td>0.035435</td>\n      <td>1.278747</td>\n    </tr>\n    <tr>\n      <th>min</th>\n      <td>-74.252193</td>\n      <td>40.573143</td>\n      <td>-74.263242</td>\n      <td>40.568973</td>\n      <td>1.000000</td>\n    </tr>\n    <tr>\n      <th>25%</th>\n      <td>-73.992501</td>\n      <td>40.736125</td>\n      <td>-73.991247</td>\n      <td>40.735254</td>\n      <td>1.000000</td>\n    </tr>\n    <tr>\n      <th>50%</th>\n      <td>-73.982326</td>\n      <td>40.753051</td>\n      <td>-73.980015</td>\n      <td>40.754065</td>\n      <td>1.000000</td>\n    </tr>\n    <tr>\n      <th>75%</th>\n      <td>-73.968013</td>\n      <td>40.767113</td>\n      <td>-73.964059</td>\n      <td>40.768757</td>\n      <td>2.000000</td>\n    </tr>\n    <tr>\n      <th>max</th>\n      <td>-72.986532</td>\n      <td>41.709555</td>\n      <td>-72.990963</td>\n      <td>41.696683</td>\n      <td>6.000000</td>\n    </tr>\n  </tbody>\n</table>\n</div>"
     },
     "execution_count": 24,
     "metadata": {},
     "output_type": "execute_result"
    }
   ],
   "source": [
    "df_test.describe()"
   ],
   "metadata": {
    "collapsed": false,
    "pycharm": {
     "name": "#%%\n"
    }
   }
  },
  {
   "cell_type": "markdown",
   "source": [
    "### **NewYork City coordinates are [https://www.travelmath.com/cities/New+York,+NY](https://www.travelmath.com/cities/New+York,+NY)**"
   ],
   "metadata": {
    "collapsed": false,
    "pycharm": {
     "name": "#%% md\n"
    }
   }
  },
  {
   "cell_type": "code",
   "execution_count": 26,
   "outputs": [],
   "source": [
    "latitude = 40.7141667\n",
    "longitude = -74.0063889"
   ],
   "metadata": {
    "collapsed": false,
    "pycharm": {
     "name": "#%%\n"
    }
   }
  },
  {
   "cell_type": "code",
   "execution_count": null,
   "outputs": [],
   "source": [],
   "metadata": {
    "collapsed": false,
    "pycharm": {
     "name": "#%%\n"
    }
   }
  }
 ],
 "metadata": {
  "kernelspec": {
   "display_name": "Python 3",
   "language": "python",
   "name": "python3"
  },
  "language_info": {
   "codemirror_mode": {
    "name": "ipython",
    "version": 2
   },
   "file_extension": ".py",
   "mimetype": "text/x-python",
   "name": "python",
   "nbconvert_exporter": "python",
   "pygments_lexer": "ipython2",
   "version": "2.7.6"
  }
 },
 "nbformat": 4,
 "nbformat_minor": 0
}